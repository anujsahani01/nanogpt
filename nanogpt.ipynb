{
  "nbformat": 4,
  "nbformat_minor": 0,
  "metadata": {
    "colab": {
      "provenance": [],
      "gpuType": "V100",
      "machine_shape": "hm",
      "include_colab_link": true
    },
    "kernelspec": {
      "name": "python3",
      "display_name": "Python 3"
    },
    "language_info": {
      "name": "python"
    },
    "gpuClass": "standard",
    "accelerator": "GPU"
  },
  "cells": [
    {
      "cell_type": "markdown",
      "metadata": {
        "id": "view-in-github",
        "colab_type": "text"
      },
      "source": [
        "<a href=\"https://colab.research.google.com/github/anujsahani01/nanogpt/blob/main/nanogpt.ipynb\" target=\"_parent\"><img src=\"https://colab.research.google.com/assets/colab-badge.svg\" alt=\"Open In Colab\"/></a>"
      ]
    },
    {
      "cell_type": "code",
      "execution_count": null,
      "metadata": {
        "colab": {
          "base_uri": "https://localhost:8080/"
        },
        "id": "GVumm25bf9N6",
        "outputId": "110a9b59-485a-46ec-c637-89b3db557f43"
      },
      "outputs": [
        {
          "output_type": "stream",
          "name": "stdout",
          "text": [
            "Looking in indexes: https://pypi.org/simple, https://us-python.pkg.dev/colab-wheels/public/simple/\n",
            "Requirement already satisfied: kaggle in /usr/local/lib/python3.10/dist-packages (1.5.13)\n",
            "Requirement already satisfied: six>=1.10 in /usr/local/lib/python3.10/dist-packages (from kaggle) (1.16.0)\n",
            "Requirement already satisfied: certifi in /usr/local/lib/python3.10/dist-packages (from kaggle) (2022.12.7)\n",
            "Requirement already satisfied: python-dateutil in /usr/local/lib/python3.10/dist-packages (from kaggle) (2.8.2)\n",
            "Requirement already satisfied: requests in /usr/local/lib/python3.10/dist-packages (from kaggle) (2.27.1)\n",
            "Requirement already satisfied: tqdm in /usr/local/lib/python3.10/dist-packages (from kaggle) (4.65.0)\n",
            "Requirement already satisfied: python-slugify in /usr/local/lib/python3.10/dist-packages (from kaggle) (8.0.1)\n",
            "Requirement already satisfied: urllib3 in /usr/local/lib/python3.10/dist-packages (from kaggle) (1.26.15)\n",
            "Requirement already satisfied: text-unidecode>=1.3 in /usr/local/lib/python3.10/dist-packages (from python-slugify->kaggle) (1.3)\n",
            "Requirement already satisfied: charset-normalizer~=2.0.0 in /usr/local/lib/python3.10/dist-packages (from requests->kaggle) (2.0.12)\n",
            "Requirement already satisfied: idna<4,>=2.5 in /usr/local/lib/python3.10/dist-packages (from requests->kaggle) (3.4)\n"
          ]
        }
      ],
      "source": [
        "! pip install kaggle"
      ]
    },
    {
      "cell_type": "code",
      "source": [
        "! mkdir ~/.kaggle"
      ],
      "metadata": {
        "id": "UaQckxfmjm6g",
        "colab": {
          "base_uri": "https://localhost:8080/"
        },
        "outputId": "0ad6964d-28cf-4db0-cb9d-b404b1a1a2b9"
      },
      "execution_count": null,
      "outputs": [
        {
          "output_type": "stream",
          "name": "stdout",
          "text": [
            "mkdir: cannot create directory ‘/root/.kaggle’: File exists\n"
          ]
        }
      ]
    },
    {
      "cell_type": "code",
      "source": [
        "! chmod 600 ~/.kaggle/kaggle.json"
      ],
      "metadata": {
        "colab": {
          "base_uri": "https://localhost:8080/"
        },
        "id": "oS0ZZutajnLh",
        "outputId": "af67333c-4e82-473a-ab2b-8fc946fdb2df"
      },
      "execution_count": null,
      "outputs": [
        {
          "output_type": "stream",
          "name": "stdout",
          "text": [
            "chmod: cannot access '/root/.kaggle/kaggle.json': No such file or directory\n"
          ]
        }
      ]
    },
    {
      "cell_type": "code",
      "source": [
        "! cp kaggle.json ~/.kaggle/"
      ],
      "metadata": {
        "id": "TIRAlvi4jnOV"
      },
      "execution_count": null,
      "outputs": []
    },
    {
      "cell_type": "code",
      "source": [
        "! kaggle datasets download -d rajathmc/cornell-moviedialog-corpus"
      ],
      "metadata": {
        "colab": {
          "base_uri": "https://localhost:8080/"
        },
        "id": "Sd2VUDAzjnQr",
        "outputId": "a7e8dd21-c040-4543-c64f-fc31a82b15e4"
      },
      "execution_count": null,
      "outputs": [
        {
          "output_type": "stream",
          "name": "stdout",
          "text": [
            "Warning: Your Kaggle API key is readable by other users on this system! To fix this, you can run 'chmod 600 /root/.kaggle/kaggle.json'\n",
            "Downloading cornell-moviedialog-corpus.zip to /content\n",
            "100% 9.58M/9.58M [00:00<00:00, 15.7MB/s]\n",
            "100% 9.58M/9.58M [00:00<00:00, 11.2MB/s]\n"
          ]
        }
      ]
    },
    {
      "cell_type": "code",
      "source": [
        "! unzip cornell-moviedialog-corpus.zip"
      ],
      "metadata": {
        "colab": {
          "base_uri": "https://localhost:8080/"
        },
        "id": "_st9WdyBjnVN",
        "outputId": "745eb889-5f90-404c-8738-ba91de572c01"
      },
      "execution_count": null,
      "outputs": [
        {
          "output_type": "stream",
          "name": "stdout",
          "text": [
            "Archive:  cornell-moviedialog-corpus.zip\n",
            "  inflating: .DS_Store               \n",
            "  inflating: README.txt              \n",
            "  inflating: chameleons.pdf          \n",
            "  inflating: movie_characters_metadata.txt  \n",
            "  inflating: movie_conversations.txt  \n",
            "  inflating: movie_lines.txt         \n",
            "  inflating: movie_titles_metadata.txt  \n",
            "  inflating: raw_script_urls.txt     \n"
          ]
        }
      ]
    },
    {
      "cell_type": "code",
      "source": [
        "device = '/device:GPU:0'"
      ],
      "metadata": {
        "id": "hl9OXjgbhN4f"
      },
      "execution_count": null,
      "outputs": []
    },
    {
      "cell_type": "code",
      "source": [
        "with open('movie_conversations.txt', 'r', encoding = 'latin-1') as f:\n",
        "  text = f.read()"
      ],
      "metadata": {
        "id": "0i3MOt7yjnWw"
      },
      "execution_count": null,
      "outputs": []
    },
    {
      "cell_type": "code",
      "source": [
        "len(text)"
      ],
      "metadata": {
        "colab": {
          "base_uri": "https://localhost:8080/"
        },
        "id": "5Iauo-WcjnZS",
        "outputId": "8dc44fd7-5418-43e7-ad95-01ae6c2be1b6"
      },
      "execution_count": null,
      "outputs": [
        {
          "output_type": "execute_result",
          "data": {
            "text/plain": [
              "6760930"
            ]
          },
          "metadata": {},
          "execution_count": 17
        }
      ]
    },
    {
      "cell_type": "code",
      "source": [
        "with open('movie_lines.txt', 'r', encoding = 'latin-1') as f:\n",
        "  data = f.read()"
      ],
      "metadata": {
        "id": "b1TQGPFNjnbw"
      },
      "execution_count": null,
      "outputs": []
    },
    {
      "cell_type": "code",
      "source": [
        "len(data)"
      ],
      "metadata": {
        "colab": {
          "base_uri": "https://localhost:8080/"
        },
        "id": "XKk0gV3UjneP",
        "outputId": "f5b0209b-7af6-4ccc-aea3-7aab6bd245ea"
      },
      "execution_count": null,
      "outputs": [
        {
          "output_type": "execute_result",
          "data": {
            "text/plain": [
              "34641919"
            ]
          },
          "metadata": {},
          "execution_count": 19
        }
      ]
    },
    {
      "cell_type": "code",
      "source": [
        "convo = text.split('\\n')\n",
        "dia  = data.split('\\n')"
      ],
      "metadata": {
        "id": "lcs_S7Y8jnhF"
      },
      "execution_count": null,
      "outputs": []
    },
    {
      "cell_type": "code",
      "source": [
        "lines = {}\n",
        "for data in dia:\n",
        "  a = data.split('+++$+++')\n",
        "  lines[a[0]] = a[-1]           # extra space added at thye end of line number"
      ],
      "metadata": {
        "id": "NXA5iABsjnjt"
      },
      "execution_count": null,
      "outputs": []
    },
    {
      "cell_type": "code",
      "source": [
        "#  their last element is an empty space\n",
        "convo = convo[:-1]\n",
        "dia = dia[:-1]"
      ],
      "metadata": {
        "id": "EM2cUmR5jnly"
      },
      "execution_count": null,
      "outputs": []
    },
    {
      "cell_type": "code",
      "source": [
        "# help in making tokenizer\n",
        "words = []\n",
        "for l in dia:\n",
        "  a = l.split('+++$+++')\n",
        "  # for word in a[-1]:\n",
        "  words.append(a[-1])"
      ],
      "metadata": {
        "id": "NE8q4IObjntX"
      },
      "execution_count": null,
      "outputs": []
    },
    {
      "cell_type": "code",
      "source": [
        "print(len(words))\n",
        "words[:10]"
      ],
      "metadata": {
        "colab": {
          "base_uri": "https://localhost:8080/"
        },
        "id": "XNwjLbMgrjRP",
        "outputId": "bf6b5652-50e1-48be-b781-2d7e89f3af7c"
      },
      "execution_count": null,
      "outputs": [
        {
          "output_type": "stream",
          "name": "stdout",
          "text": [
            "304713\n"
          ]
        },
        {
          "output_type": "execute_result",
          "data": {
            "text/plain": [
              "[' They do not!',\n",
              " ' They do to!',\n",
              " ' I hope so.',\n",
              " ' She okay?',\n",
              " \" Let's go.\",\n",
              " ' Wow',\n",
              " \" Okay -- you're gonna need to learn how to lie.\",\n",
              " ' No',\n",
              " ' I\\'m kidding.  You know how sometimes you just become this \"persona\"?  And you don\\'t know how to quit?',\n",
              " ' Like my fear of wearing pastels?']"
            ]
          },
          "metadata": {},
          "execution_count": 24
        }
      ]
    },
    {
      "cell_type": "code",
      "source": [
        "all_dia = []\n",
        "k = 0\n",
        "s = ''\n",
        "for i in convo:\n",
        "  l = i.split('+++$+++')\n",
        "  k = k + 1\n",
        "  v = []\n",
        "  arr = eval(l[-1])\n",
        "  for j in arr:\n",
        "    v.append(lines[j + ' '])\n",
        "  all_dia.append(v)\n",
        "  v = []"
      ],
      "metadata": {
        "id": "XcqwWacUjnxm"
      },
      "execution_count": null,
      "outputs": []
    },
    {
      "cell_type": "code",
      "source": [
        "len(all_dia)"
      ],
      "metadata": {
        "colab": {
          "base_uri": "https://localhost:8080/"
        },
        "id": "6m6z07fFjnzc",
        "outputId": "183bbd28-9693-4c16-efc1-62954b097bcc"
      },
      "execution_count": null,
      "outputs": [
        {
          "output_type": "execute_result",
          "data": {
            "text/plain": [
              "83097"
            ]
          },
          "metadata": {},
          "execution_count": 26
        }
      ]
    },
    {
      "cell_type": "code",
      "source": [
        "all_dia[:10]"
      ],
      "metadata": {
        "colab": {
          "base_uri": "https://localhost:8080/"
        },
        "id": "yK15WY5zjn1r",
        "outputId": "47e87765-3bfa-429f-9079-124084525641"
      },
      "execution_count": null,
      "outputs": [
        {
          "output_type": "execute_result",
          "data": {
            "text/plain": [
              "[[' Can we make this quick?  Roxanne Korrine and Andrew Barrett are having an incredibly horrendous public break- up on the quad.  Again.',\n",
              "  \" Well, I thought we'd start with pronunciation, if that's okay with you.\",\n",
              "  ' Not the hacking and gagging and spitting part.  Please.',\n",
              "  \" Okay... then how 'bout we try out some French cuisine.  Saturday?  Night?\"],\n",
              " [\" You're asking me out.  That's so cute. What's your name again?\",\n",
              "  ' Forget it.'],\n",
              " [\" No, no, it's my fault -- we didn't have a proper introduction ---\",\n",
              "  ' Cameron.',\n",
              "  \" The thing is, Cameron -- I'm at the mercy of a particularly hideous breed of loser.  My sister.  I can't date until she does.\",\n",
              "  ' Seems like she could get a date easy enough...'],\n",
              " [' Why?',\n",
              "  ' Unsolved mystery.  She used to be really popular when she started high school, then it was just like she got sick of it or something.',\n",
              "  \" That's a shame.\"],\n",
              " [' Gosh, if only we could find Kat a boyfriend...',\n",
              "  ' Let me see what I can do.'],\n",
              " [\" C'esc ma tete. This is my head\",\n",
              "  \" Right.  See?  You're ready for the quiz.\",\n",
              "  \" I don't want to know how to say that though.  I want to know useful things. Like where the good stores are.  How much does champagne cost?  Stuff like Chat.  I have never in my life had to point out my head to someone.\",\n",
              "  \" That's because it's such a nice one.\",\n",
              "  ' Forget French.'],\n",
              " [' How is our little Find the Wench A Date plan progressing?',\n",
              "  \" Well, there's someone I think might be --\"],\n",
              " [' There.', ' Where?'],\n",
              " [' You got something on your mind?',\n",
              "  \" I counted on you to help my cause. You and that thug are obviously failing. Aren't we ever going on our date?\"],\n",
              " [' You have my word.  As a gentleman', \" You're sweet.\"]]"
            ]
          },
          "metadata": {},
          "execution_count": 27
        }
      ]
    },
    {
      "cell_type": "code",
      "source": [
        "# finding all unique characters present is the data\n",
        "chrs = []\n",
        "for dialogue in all_dia:\n",
        "  for s in dialogue:\n",
        "    for chr in s:\n",
        "      if chr not in chrs:\n",
        "        chrs.append(chr)\n",
        "\n",
        "len(chrs)"
      ],
      "metadata": {
        "colab": {
          "base_uri": "https://localhost:8080/"
        },
        "id": "sV8UoPcMjn31",
        "outputId": "c45d3e63-f7dd-4df1-e268-d51710b71b25"
      },
      "execution_count": null,
      "outputs": [
        {
          "output_type": "execute_result",
          "data": {
            "text/plain": [
              "136"
            ]
          },
          "metadata": {},
          "execution_count": 28
        }
      ]
    },
    {
      "cell_type": "code",
      "source": [
        "# finding special characters present in our data\n",
        "alpha = 'abcdefghijklmnopqrstuvwxyz '\n",
        "ALPHA = alpha.upper()\n",
        "number = '1234567890'\n",
        "punch = \",.!?'-\"\n",
        "special = []\n",
        "for i in chrs:\n",
        "  if i not in alpha and i not in ALPHA and i not in number and i not in punch:\n",
        "    special.append(i)\n",
        "\n",
        "print(special)"
      ],
      "metadata": {
        "colab": {
          "base_uri": "https://localhost:8080/"
        },
        "id": "9OPhpJ8Pjn59",
        "outputId": "5bdef2de-269a-4a6e-de21-b2579cc0a994"
      },
      "execution_count": null,
      "outputs": [
        {
          "output_type": "stream",
          "name": "stdout",
          "text": [
            "['\"', ':', '*', '$', '/', ';', '+', '<', '>', '`', '&', '\\xad', '\\x97', '[', ']', '\\x96', 'é', '%', '#', '£', 'È', 'ñ', 'ü', '~', '\\t', ')', '_', 'è', 'â', 'à', '^', '\\x85', 'Ü', '=', '\\x82', '\\x93', '\\x92', '\\x94', '|', '{', 'É', 'Ç', 'ç', 'í', 'ä', 'ó', 'á', 'ï', 'Ò', 'Ó', 'Ô', '\\x91', 'ê', '«', '¥', '\\x8a', '¹', '·', 'ß', 'Õ', '\\x8c', '³', '²', 'ú', '}', 'ù', 'û']\n"
          ]
        }
      ]
    },
    {
      "cell_type": "code",
      "source": [
        "extras = ['²', '´', 'µ', 'Ã']\n",
        "for k in extras:\n",
        "  special.append(k)"
      ],
      "metadata": {
        "id": "k3vMGMVpDlEq"
      },
      "execution_count": null,
      "outputs": []
    },
    {
      "cell_type": "code",
      "source": [
        "# pre processing\n",
        "import re\n",
        "def preprocessing(phrase):\n",
        "  phrase = re.sub(r\"won\\'t\", \"will not\", phrase)\n",
        "  phrase = re.sub(r\"can\\'t\", \"can not\", phrase)\n",
        "  phrase = re.sub(r\"won\\'t\", \"will not\", phrase)\n",
        "  phrase = re.sub(r\"can\\’t\", \"can not\", phrase)\n",
        "\n",
        "  # general\n",
        "  phrase = re.sub(r\"n\\'t\", \" not\", phrase)\n",
        "  phrase = re.sub(r\"\\'re\", \" are\", phrase)\n",
        "  phrase = re.sub(r\"\\'s\", \" is\", phrase)\n",
        "  phrase = re.sub(r\"\\'d\", \" would\", phrase)\n",
        "  phrase = re.sub(r\"\\'ll\", \" will\", phrase)\n",
        "  phrase = re.sub(r\"\\'t\", \" not\", phrase)\n",
        "  phrase = re.sub(r\"\\'ve\", \" have\", phrase)\n",
        "  phrase = re.sub(r\"\\'m\", \" am\", phrase)\n",
        "\n",
        "  phrase = re.sub(r\"n\\’t\", \" not\", phrase)\n",
        "  phrase = re.sub(r\"\\’re\", \" are\", phrase)\n",
        "  phrase = re.sub(r\"\\’s\", \" is\", phrase)\n",
        "  phrase = re.sub(r\"\\’d\", \" would\", phrase)\n",
        "  phrase = re.sub(r\"\\’ll\", \" will\", phrase)\n",
        "  phrase = re.sub(r\"\\’t\", \" not\", phrase)\n",
        "  phrase = re.sub(r\"\\’ve\", \" have\", phrase)\n",
        "  phrase = re.sub(r\"\\’m\", \" am\", phrase)\n",
        "\n",
        "  phrase = phrase.lower()\n",
        "  for i in special:\n",
        "    phrase = phrase.replace(i, ' ')\n",
        "\n",
        "  return phrase"
      ],
      "metadata": {
        "id": "Cpcq-vC5jn8N"
      },
      "execution_count": null,
      "outputs": []
    },
    {
      "cell_type": "code",
      "source": [
        "df_arr = []\n",
        "processed = []\n",
        "a1 = ''\n",
        "for i in all_dia:\n",
        "  for sent in i:\n",
        "    sent = preprocessing(sent)\n",
        "    processed.append(sent)\n",
        "  df_arr.append(processed)\n",
        "  processed = []"
      ],
      "metadata": {
        "id": "9Fah4lutjn-j"
      },
      "execution_count": null,
      "outputs": []
    },
    {
      "cell_type": "code",
      "source": [
        "df_arr[:20]"
      ],
      "metadata": {
        "colab": {
          "base_uri": "https://localhost:8080/"
        },
        "id": "xDj3yoJQjoBA",
        "outputId": "8f8a4af7-752e-4ed7-8239-f8adfb56ea9b"
      },
      "execution_count": null,
      "outputs": [
        {
          "output_type": "execute_result",
          "data": {
            "text/plain": [
              "[[' can we make this quick?  roxanne korrine and andrew barrett are having an incredibly horrendous public break- up on the quad.  again.',\n",
              "  ' well, i thought we would start with pronunciation, if that is okay with you.',\n",
              "  ' not the hacking and gagging and spitting part.  please.',\n",
              "  \" okay... then how 'bout we try out some french cuisine.  saturday?  night?\"],\n",
              " [' you are asking me out.  that is so cute. what is your name again?',\n",
              "  ' forget it.'],\n",
              " [' no, no, it is my fault -- we did not have a proper introduction ---',\n",
              "  ' cameron.',\n",
              "  ' the thing is, cameron -- i am at the mercy of a particularly hideous breed of loser.  my sister.  i can not date until she does.',\n",
              "  ' seems like she could get a date easy enough...'],\n",
              " [' why?',\n",
              "  ' unsolved mystery.  she used to be really popular when she started high school, then it was just like she got sick of it or something.',\n",
              "  ' that is a shame.'],\n",
              " [' gosh, if only we could find kat a boyfriend...',\n",
              "  ' let me see what i can do.'],\n",
              " [\" c'esc ma tete. this is my head\",\n",
              "  ' right.  see?  you are ready for the quiz.',\n",
              "  ' i do not want to know how to say that though.  i want to know useful things. like where the good stores are.  how much does champagne cost?  stuff like chat.  i have never in my life had to point out my head to someone.',\n",
              "  ' that is because it is such a nice one.',\n",
              "  ' forget french.'],\n",
              " [' how is our little find the wench a date plan progressing?',\n",
              "  ' well, there is someone i think might be --'],\n",
              " [' there.', ' where?'],\n",
              " [' you got something on your mind?',\n",
              "  ' i counted on you to help my cause. you and that thug are obviously failing. are not we ever going on our date?'],\n",
              " [' you have my word.  as a gentleman', ' you are sweet.'],\n",
              " [' how do you get your hair to look like that?',\n",
              "  ' eber is deep conditioner every two days. and i never, ever use a blowdryer without the diffuser attachment.'],\n",
              " [' sure have.',\n",
              "  ' i really, really, really wanna go, but i can not.  not unless my sister goes.',\n",
              "  \" i am workin' on it. but she does not seem to be goin' for him.\"],\n",
              " [' she is not a...',\n",
              "  ' lesbian?  no. i found a picture of jared leto in one of her drawers, so i am pretty sure she is not harboring same-sex tendencies.',\n",
              "  ' so that is the kind of guy she likes? pretty ones?',\n",
              "  ' who knows?  all i have ever heard her say is that she would dip before dating a guy that smokes.'],\n",
              " [' hi.', ' looks like things worked out tonight, huh?'],\n",
              " [' you know chastity?', ' i believe we share an art instructor'],\n",
              " [' have fun tonight?', ' tons'],\n",
              " [' i looked for you back at the party, but you always seemed to be  occupied .',\n",
              "  ' i was?',\n",
              "  ' you never wanted to go out with  ame, did you?'],\n",
              " [' well, no...',\n",
              "  ' then that is all you had to say.',\n",
              "  ' but',\n",
              "  ' you always been this selfish?'],\n",
              " [' then guillermo says,  if you go any lighter, you are gonna look like an extra on 90210. ',\n",
              "  ' no...'],\n",
              " [' do you listen to this crap?',\n",
              "  ' what crap?',\n",
              "  ' me.  this endless ...blonde babble. i am like, boring myself.',\n",
              "  ' thank god!  if i had to hear one more story about your coiffure...']]"
            ]
          },
          "metadata": {},
          "execution_count": 33
        }
      ]
    },
    {
      "cell_type": "code",
      "source": [
        "ques = []\n",
        "ans = []\n",
        "\n",
        "for conv in df_arr:\n",
        "  for i in range(0, len(conv)-1):\n",
        "    ques.append(conv[i])\n",
        "    ans.append(conv[i+1])\n",
        "\n",
        "print(len(ques), len(ans))"
      ],
      "metadata": {
        "colab": {
          "base_uri": "https://localhost:8080/"
        },
        "id": "dxsfLwG6joFP",
        "outputId": "dbecdb4d-b132-4773-e241-caae65517c01"
      },
      "execution_count": null,
      "outputs": [
        {
          "output_type": "stream",
          "name": "stdout",
          "text": [
            "221616 221616\n"
          ]
        }
      ]
    },
    {
      "cell_type": "code",
      "source": [
        "# forming data\n",
        "with open('data.txt', 'w') as f:\n",
        "  for i in range(len(ans)):\n",
        "    f.write(f'### Intruction:\\n{ques[i]}\\n')\n",
        "    f.write(f'### Response:\\n{ans[i]}\\n')"
      ],
      "metadata": {
        "id": "iMfZ5aqbjoJv"
      },
      "execution_count": null,
      "outputs": []
    },
    {
      "cell_type": "code",
      "source": [
        "with open('data.txt', 'r' , encoding = 'latin1') as f:\n",
        "  text = f.read()"
      ],
      "metadata": {
        "id": "PrQfstVCjoL7"
      },
      "execution_count": null,
      "outputs": []
    },
    {
      "cell_type": "code",
      "source": [
        "print(len(text))"
      ],
      "metadata": {
        "colab": {
          "base_uri": "https://localhost:8080/"
        },
        "id": "LzVnqdWVjoOm",
        "outputId": "39a067de-707f-49f9-c835-04d3229f8be8"
      },
      "execution_count": null,
      "outputs": [
        {
          "output_type": "stream",
          "name": "stdout",
          "text": [
            "32102778\n"
          ]
        }
      ]
    },
    {
      "cell_type": "code",
      "source": [
        "# creating a character level tokenizer\n",
        "chrs = sorted(list(set(text)))\n",
        "print(chrs)\n",
        "print(len(chrs))"
      ],
      "metadata": {
        "colab": {
          "base_uri": "https://localhost:8080/"
        },
        "id": "u6LciMhgjoRE",
        "outputId": "9f100d67-f7a8-44d4-ecb4-31fbe7202c8e"
      },
      "execution_count": null,
      "outputs": [
        {
          "output_type": "stream",
          "name": "stdout",
          "text": [
            "['\\n', ' ', '!', '#', \"'\", ',', '-', '.', '0', '1', '2', '3', '4', '5', '6', '7', '8', '9', ':', '?', 'I', 'R', 'a', 'b', 'c', 'd', 'e', 'f', 'g', 'h', 'i', 'j', 'k', 'l', 'm', 'n', 'o', 'p', 'q', 'r', 's', 't', 'u', 'v', 'w', 'x', 'y', 'z', '²', '´', 'µ', 'Ã']\n",
            "52\n"
          ]
        }
      ]
    },
    {
      "cell_type": "code",
      "source": [
        "char_to_int = {ch:i for i,ch in enumerate(chrs)}\n",
        "int_to_char = {i:ch for i, ch in enumerate(chrs)}\n",
        "\n",
        "def encoder(s):\n",
        "  arr = [char_to_int.get(i) for i in s]\n",
        "  return arr\n",
        "\n",
        "def decoder(s):\n",
        "  name = ''.join(int_to_char.get(i) for i in s)\n",
        "  return name"
      ],
      "metadata": {
        "id": "R5tgttxnjoTa"
      },
      "execution_count": null,
      "outputs": []
    },
    {
      "cell_type": "code",
      "source": [
        "print(encoder('my name is anuj'))\n",
        "print(decoder(encoder('my name is anuj')))"
      ],
      "metadata": {
        "colab": {
          "base_uri": "https://localhost:8080/"
        },
        "id": "IX5AKERajoWF",
        "outputId": "a114ee57-5e89-48d1-cfd7-02799dcdf481"
      },
      "execution_count": null,
      "outputs": [
        {
          "output_type": "stream",
          "name": "stdout",
          "text": [
            "[34, 46, 1, 35, 22, 34, 26, 1, 30, 40, 1, 22, 35, 42, 31]\n",
            "my name is anuj\n"
          ]
        }
      ]
    },
    {
      "cell_type": "code",
      "source": [
        "# forming a data tensor using pytorch\n",
        "import torch\n",
        "data = torch.tensor(encoder(text), dtype = torch.long)\n",
        "print(data.shape, data.type, data[:100])"
      ],
      "metadata": {
        "colab": {
          "base_uri": "https://localhost:8080/"
        },
        "id": "qzwjwQe6joYZ",
        "outputId": "e3da492f-667f-44a0-ccaa-84cd1b5dafe6"
      },
      "execution_count": null,
      "outputs": [
        {
          "output_type": "stream",
          "name": "stdout",
          "text": [
            "torch.Size([32102778]) <built-in method type of Tensor object at 0x7f83e5be1a80> tensor([ 3,  3,  3,  1, 20, 35, 41, 39, 42, 24, 41, 30, 36, 35, 18,  0,  1, 24,\n",
            "        22, 35,  1, 44, 26,  1, 34, 22, 32, 26,  1, 41, 29, 30, 40,  1, 38, 42,\n",
            "        30, 24, 32, 19,  1,  1, 39, 36, 45, 22, 35, 35, 26,  1, 32, 36, 39, 39,\n",
            "        30, 35, 26,  1, 22, 35, 25,  1, 22, 35, 25, 39, 26, 44,  1, 23, 22, 39,\n",
            "        39, 26, 41, 41,  1, 22, 39, 26,  1, 29, 22, 43, 30, 35, 28,  1, 22, 35,\n",
            "         1, 30, 35, 24, 39, 26, 25, 30, 23, 33])\n"
          ]
        }
      ]
    },
    {
      "cell_type": "code",
      "source": [
        "# splitting data\n",
        "split = int(0.9*len(data))\n",
        "train_data = data[:split]\n",
        "test_data = data[split:]"
      ],
      "metadata": {
        "id": "J84PUoA4joav"
      },
      "execution_count": null,
      "outputs": []
    },
    {
      "cell_type": "code",
      "source": [
        "n_embd = 256\n",
        "batch_size = 20\n",
        "block_size = 128    # max context length\n",
        "vocab_size = len(chrs)"
      ],
      "metadata": {
        "id": "Rh1JD5LOCUbk"
      },
      "execution_count": null,
      "outputs": []
    },
    {
      "cell_type": "code",
      "source": [
        "def batch_data(split):\n",
        "  data = train_data if split == 'train' else test_data\n",
        "  index = torch.randint(len(data)-block_size, (batch_size,))\n",
        "  # torch.stack will stack the data row wise(4 rows == batch_size)\n",
        "  X = torch.stack([data[i:i+block_size] for i in index])\n",
        "  Y = torch.stack([data[i+1:i + 1 + block_size] for i in index])\n",
        "  X , Y = X.to(device) , Y.to(device)\n",
        "  return X, Y"
      ],
      "metadata": {
        "id": "5MRBTKQoMXh_"
      },
      "execution_count": null,
      "outputs": []
    },
    {
      "cell_type": "code",
      "source": [
        "import torch\n",
        "torch.cuda.is_available()"
      ],
      "metadata": {
        "colab": {
          "base_uri": "https://localhost:8080/"
        },
        "id": "KSUOEqhrivga",
        "outputId": "9175ef91-2aba-45ee-b79a-111b5bea20e5"
      },
      "execution_count": null,
      "outputs": [
        {
          "output_type": "execute_result",
          "data": {
            "text/plain": [
              "True"
            ]
          },
          "metadata": {},
          "execution_count": 45
        }
      ]
    },
    {
      "cell_type": "code",
      "source": [
        "import torch\n",
        "\n",
        "device = torch.device(\"cuda:0\" if torch.cuda.is_available() else \"cpu\")"
      ],
      "metadata": {
        "id": "CFQ2bzFulT9X"
      },
      "execution_count": null,
      "outputs": []
    },
    {
      "cell_type": "code",
      "source": [
        "# device  = 'cuda'"
      ],
      "metadata": {
        "id": "ovNOAiZOjCCa"
      },
      "execution_count": null,
      "outputs": []
    },
    {
      "cell_type": "code",
      "source": [
        "def batch_data(split):\n",
        "  data = train_data if split == 'train' else test_data\n",
        "  index = torch.randint(len(data)-block_size, (batch_size,))\n",
        "  # torch.stack will stack the data row wise(4 rows == batch_size)\n",
        "  X = torch.stack([data[i:i+block_size] for i in index])\n",
        "  Y = torch.stack([data[i+1:i + 1 + block_size] for i in index])\n",
        "  X , Y = X.to(device) , Y.to(device)\n",
        "  return X, Y"
      ],
      "metadata": {
        "id": "W-6WpsKUlcL-"
      },
      "execution_count": null,
      "outputs": []
    },
    {
      "cell_type": "code",
      "source": [
        "x, y = batch_data('train')\n",
        "print(x.shape, y.shape)"
      ],
      "metadata": {
        "colab": {
          "base_uri": "https://localhost:8080/"
        },
        "id": "jPT_5uIejogD",
        "outputId": "90b90428-7b46-4e2a-abd1-e9c4a79d5b8a"
      },
      "execution_count": null,
      "outputs": [
        {
          "output_type": "stream",
          "name": "stdout",
          "text": [
            "torch.Size([20, 128]) torch.Size([20, 128])\n"
          ]
        }
      ]
    },
    {
      "cell_type": "code",
      "source": [
        "import torch\n",
        "import torch.nn as nn\n",
        "from torch.nn import functional as F\n",
        "torch.manual_seed(133)  # for reproducibility"
      ],
      "metadata": {
        "colab": {
          "base_uri": "https://localhost:8080/"
        },
        "id": "JvFuFYK-joiw",
        "outputId": "ef835769-fca1-4123-b078-53c81a16f81a"
      },
      "execution_count": null,
      "outputs": [
        {
          "output_type": "execute_result",
          "data": {
            "text/plain": [
              "<torch._C.Generator at 0x7f8482768130>"
            ]
          },
          "metadata": {},
          "execution_count": 50
        }
      ]
    },
    {
      "cell_type": "code",
      "source": [
        "class Head(nn.Module):\n",
        "  def __init__(self, head_dims):\n",
        "    super().__init__()\n",
        "    self.key = nn.Linear(n_embd, head_dims, bias = False)\n",
        "    self.query = nn.Linear(n_embd, head_dims, bias = False)\n",
        "    self.value  = nn.Linear(n_embd, head_dims , bias = False)\n",
        "    #  we have to make this buffer for the matrix\n",
        "    self.register_buffer('tril', torch.tril(torch.ones(block_size, block_size)))\n",
        "    self.dropout = nn.Dropout(0.2)\n",
        "\n",
        "  def forward(self , x):\n",
        "    B, T, C = x.shape\n",
        "    k = self.key(x)\n",
        "    q = self.query(x)\n",
        "    weights = q @ k.transpose(-2, -1) * C**-0.5\n",
        "    weights = weights.masked_fill(self.tril[:T, :T] == 0 , float('-inf'))\n",
        "\n",
        "    weights = F.softmax(weights, dim = -1)\n",
        "    weights = self.dropout(weights)\n",
        "    v = self.value(x)\n",
        "    out  = weights @ v\n",
        "    return out"
      ],
      "metadata": {
        "id": "dTErZa_-jok4"
      },
      "execution_count": null,
      "outputs": []
    },
    {
      "cell_type": "code",
      "source": [
        "class MultiHeadAttention(nn.Module):\n",
        "  def __init__(self, head_dims, num_heads):\n",
        "    super().__init__()\n",
        "    self.heads = nn.ModuleList([Head(head_dims) for _ in range(num_heads)])\n",
        "    self.proj = nn.Linear(n_embd, n_embd)\n",
        "    self.dropout = nn.Dropout(0.2)\n",
        "\n",
        "  def forward(self, x):\n",
        "    out = torch.cat([h(x) for h in self.heads], dim = -1)\n",
        "    # projecting it back to the resudial pathway by addition operation\n",
        "    out = self.proj(out)\n",
        "    out = self.dropout(out)\n",
        "    return out\n"
      ],
      "metadata": {
        "id": "Q9bV2F5vjonb"
      },
      "execution_count": null,
      "outputs": []
    },
    {
      "cell_type": "code",
      "source": [
        "class FeedForward(nn.Module):\n",
        "  # it is to make a simple linear layer\n",
        "  def __init__(self, n_embd):\n",
        "    super().__init__()\n",
        "    self.net = nn.Sequential(\n",
        "        # we have done 4 time cuz its in the paper of attention is all u need\n",
        "        nn.Linear(n_embd, 4*n_embd),\n",
        "        nn.ReLU(),\n",
        "        nn.Dropout(0.2),\n",
        "        # projection layer of feed forward\n",
        "        nn.Linear(4*n_embd, n_embd),\n",
        "        # nn.Dropout(0.2)\n",
        "\n",
        "    )\n",
        "\n",
        "  def forward(self, x):\n",
        "    return self.net(x)"
      ],
      "metadata": {
        "id": "QvVc0LPMjopl"
      },
      "execution_count": null,
      "outputs": []
    },
    {
      "cell_type": "code",
      "source": [
        "# in this block both communication and computation is done\n",
        "class Block(nn.Module):\n",
        "  def __init__(self,n_embd, num_heads):\n",
        "    super().__init__()\n",
        "    head_dims = n_embd // num_heads\n",
        "    self.self_attention = MultiHeadAttention(num_heads, head_dims)        # communication is done by the attention layer\n",
        "    self.ffwd = FeedForward(n_embd)                                       # computation is done in the using feed forward network on all tokens independently.\n",
        "    self.norm1 = nn.LayerNorm(n_embd)\n",
        "    self.norm2 = nn.LayerNorm(n_embd)\n",
        "\n",
        "  def forward(self, x):\n",
        "    # skip connections / residual connections\n",
        "    # so we are normalizing the input before passing it to the layers\n",
        "    x = x + self.self_attention(self.norm1(x))\n",
        "    x = x + self.ffwd(self.norm2(x))\n",
        "    return x\n"
      ],
      "metadata": {
        "id": "bpnaKzhzCfe9"
      },
      "execution_count": null,
      "outputs": []
    },
    {
      "cell_type": "code",
      "source": [
        "# some code changes\n",
        "class BigramLanguageModel(nn.Module):    # subclass of nn module\n",
        "  def __init__(self, vocab_size):\n",
        "    super().__init__()\n",
        "    # 65 X 65 lookup table\n",
        "    self.token_embedding_table = nn.Embedding(vocab_size, n_embd)\n",
        "    # now we will also consider the position of the characters\n",
        "    self.position_embedding_table = nn.Embedding(block_size, n_embd)     # each block size will have an embedding vector\n",
        "    # self.self_attention = Head(n_embd)\n",
        "    # self.self_attention = MultiHeadAttention(4, n_embd//4)    # now instead of 1 head of 32 dims we have 4 heads of 8 dims.\n",
        "    # self.ffwd = FeedForward(n_embd)\n",
        "    self.blk = nn.Sequential(\n",
        "        Block(n_embd, num_heads = 4),\n",
        "        Block(n_embd, num_heads = 4),\n",
        "        Block(n_embd, num_heads = 4),\n",
        "        Block(n_embd, num_heads = 4),\n",
        "        # Block(n_embd, num_heads = 4),\n",
        "        nn.LayerNorm(n_embd))   # normalizing it last time before final decoding\n",
        "    self.linear = nn.Linear(n_embd, vocab_size)\n",
        "\n",
        "                  # X, Y (offset by 1 of X)\n",
        "  def forward(self, idx, targets = None):\n",
        "    # prediction\n",
        "    # logits = self.token_embedding_table(idx)   # output of (B, T, C)\n",
        "    B, T = idx.shape\n",
        "\n",
        "    token_emb = self.token_embedding_table(idx)  # output of (B, T, C)\n",
        "    position_emb = self.position_embedding_table(torch.arange(T, device = device))     # output of (T, C)\n",
        "    h = token_emb + position_emb         # both position and token data is passed\n",
        "    # h1 = self.self_attention(h)\n",
        "    # l = self.ffwd(h1)                    # (B, T, C)\n",
        "    h = self.blk(h)\n",
        "    logits = self.linear(h)              # output of (B, T, vocab_size)\n",
        "    # batch = 4 , T-  Time = 8(blocksize), channels = 65(vocab_size)\n",
        "    # PYTORCH FUNCTIONAL LOSS FUNCTION EXCEPTS THE INPUT IN FORM OF (U, C) (only 2 dims and the channels as the second one)\n",
        "    if targets is None:\n",
        "      loss = None\n",
        "    else:\n",
        "      B, T, C = logits.shape\n",
        "      logits = logits.view(B*T , C)\n",
        "      targets = targets.view(B*T)\n",
        "      loss = F.cross_entropy(logits, targets)\n",
        "    return logits, loss\n",
        "# this will help us in gerenating the new text\n",
        "# the goal of this function is to predict B, T+1 and so on like max_new_tokens\n",
        "  def generate(self, idx, max_new_tokens):\n",
        "    for i  in range(max_new_tokens):\n",
        "      # now we have to truncate the length of the sentence when it exceedes a length more than block_size\n",
        "      idx_cond = idx[:, -block_size:]\n",
        "      logits, loss = self.forward(idx_cond)\n",
        "      # focus only on last time step\n",
        "      logits = logits[:, -1, :]   # now its (B, C)\n",
        "      probs = F.softmax(logits, dim = -1)\n",
        "      idx_next = torch.multinomial(probs, num_samples = 1)   # (B, 1)\n",
        "      idx = torch.cat((idx, idx_next) , dim = 1)   # (B, T+1)\n",
        "    return idx\n",
        "\n",
        "\n",
        "model = BigramLanguageModel(vocab_size)\n",
        "m = model.to(device)\n",
        "logits, loss = m(x,y)\n",
        "# print(loss)\n",
        "#  this is an empty [0,0] tensor to store new B and T\n",
        "idx = torch.zeros((1,1), dtype = torch.long, device = device)\n",
        "k = model.generate(idx, max_new_tokens = 100)[0].tolist()\n",
        "text  = decoder(k)\n",
        "print(text)"
      ],
      "metadata": {
        "colab": {
          "base_uri": "https://localhost:8080/"
        },
        "id": "QvtseAlcChfk",
        "outputId": "d2ec55b8-3387-4c06-f065-5d4b38afe238"
      },
      "execution_count": null,
      "outputs": [
        {
          "output_type": "stream",
          "name": "stdout",
          "text": [
            "\n",
            "0#,5#fgwk8.sb5dj,²r10vfbjng:j:o-9-d#.-t.R, ,wi7yvbxÃm'v2\n",
            "#00Ã5og'9mpdq# ooo70µl,ym:: ?,.'skfRiÃsr\n",
            "i5\n"
          ]
        }
      ]
    },
    {
      "cell_type": "code",
      "source": [
        "optimizer = torch.optim.AdamW(model.parameters(), lr = 0.0005)"
      ],
      "metadata": {
        "id": "iABUcsXkCkwM"
      },
      "execution_count": null,
      "outputs": []
    },
    {
      "cell_type": "code",
      "source": [
        "# loss function\n",
        "eval_iters = 200\n",
        "def estimate_loss():\n",
        "  out = {}\n",
        "  model.eval()       # putting the model in evaluation stage\n",
        "  for split in ['train', 'test']:\n",
        "    losses = torch.zeros(eval_iters)     # storing loss for eval_iterations then taking average\n",
        "    for i in range(eval_iters):\n",
        "      X, Y = batch_data(split)\n",
        "      logits , loss  = model(X, Y)\n",
        "      losses[k] = loss.item()\n",
        "    out[split] = losses.mean()           # storing the mean average in the dictionary\n",
        "  model.train()   # putting the model back to traning stage\n",
        "  return out"
      ],
      "metadata": {
        "id": "e41n9T1kDA60"
      },
      "execution_count": null,
      "outputs": []
    },
    {
      "cell_type": "code",
      "source": [
        "batch_size = 20\n",
        "max_iter = 400\n",
        "eval_interval  = 50\n"
      ],
      "metadata": {
        "id": "WCPr88yAFw67",
        "colab": {
          "base_uri": "https://localhost:8080/"
        },
        "outputId": "2b18b7d1-da31-4b82-8e88-1501012dfb60"
      },
      "execution_count": null,
      "outputs": [
        {
          "output_type": "stream",
          "name": "stdout",
          "text": [
            "step:0 train loss: 0.23145942389965057, val_loss: 0.24541030824184418\n",
            "step:10 train loss: 0.27346986532211304, val_loss: 0.2520347833633423\n",
            "step:20 train loss: 0.258699506521225, val_loss: 0.2606281042098999\n",
            "step:30 train loss: 0.2628273069858551, val_loss: 0.23565322160720825\n",
            "step:40 train loss: 0.2261483073234558, val_loss: 0.2239612191915512\n",
            "step:50 train loss: 0.2311549037694931, val_loss: 0.25241443514823914\n",
            "step:60 train loss: 0.23936544358730316, val_loss: 0.2288949191570282\n",
            "step:70 train loss: 0.22847817838191986, val_loss: 0.2496141940355301\n",
            "step:80 train loss: 0.2320335954427719, val_loss: 0.2710479497909546\n",
            "step:90 train loss: 0.2450026571750641, val_loss: 0.24890489876270294\n",
            "step:100 train loss: 0.25288674235343933, val_loss: 0.24327689409255981\n",
            "step:110 train loss: 0.2509119212627411, val_loss: 0.23466387391090393\n",
            "step:120 train loss: 0.22670680284500122, val_loss: 0.2525206208229065\n",
            "step:130 train loss: 0.23053675889968872, val_loss: 0.23409007489681244\n",
            "step:140 train loss: 0.24522773921489716, val_loss: 0.24618341028690338\n",
            "step:150 train loss: 0.25971177220344543, val_loss: 0.2251630276441574\n",
            "step:160 train loss: 0.23583458364009857, val_loss: 0.2613479495048523\n",
            "step:170 train loss: 0.23961305618286133, val_loss: 0.2631274461746216\n",
            "step:180 train loss: 0.23712627589702606, val_loss: 0.23727600276470184\n",
            "step:190 train loss: 0.23744657635688782, val_loss: 0.24623052775859833\n",
            "step:200 train loss: 0.25020310282707214, val_loss: 0.26530691981315613\n",
            "step:210 train loss: 0.24561920762062073, val_loss: 0.23549677431583405\n",
            "step:220 train loss: 0.23984847962856293, val_loss: 0.2493884414434433\n",
            "step:230 train loss: 0.2540031969547272, val_loss: 0.2436489462852478\n",
            "step:240 train loss: 0.2522416114807129, val_loss: 0.2664712965488434\n",
            "step:250 train loss: 0.24030862748622894, val_loss: 0.22839200496673584\n",
            "step:260 train loss: 0.23980937898159027, val_loss: 0.24410267174243927\n",
            "step:270 train loss: 0.2240585833787918, val_loss: 0.249817356467247\n",
            "step:280 train loss: 0.23164522647857666, val_loss: 0.25361964106559753\n",
            "step:290 train loss: 0.24760614335536957, val_loss: 0.20891045033931732\n",
            "step:300 train loss: 0.25074541568756104, val_loss: 0.2638554871082306\n",
            "step:310 train loss: 0.22588272392749786, val_loss: 0.24304300546646118\n",
            "step:320 train loss: 0.235466867685318, val_loss: 0.2374047487974167\n",
            "step:330 train loss: 0.23080183565616608, val_loss: 0.26068753004074097\n",
            "step:340 train loss: 0.22434455156326294, val_loss: 0.2432059794664383\n",
            "step:350 train loss: 0.27530157566070557, val_loss: 0.22165164351463318\n",
            "step:360 train loss: 0.24641096591949463, val_loss: 0.23440775275230408\n",
            "step:370 train loss: 0.23752576112747192, val_loss: 0.2557699680328369\n",
            "step:380 train loss: 0.2772521674633026, val_loss: 0.23825401067733765\n",
            "step:390 train loss: 0.24216681718826294, val_loss: 0.24919012188911438\n"
          ]
        }
      ]
    },
    {
      "cell_type": "code",
      "source": [
        "import matplotlib.pyplot as plt"
      ],
      "metadata": {
        "id": "D1e296QkLJ5u"
      },
      "execution_count": null,
      "outputs": []
    },
    {
      "cell_type": "code",
      "source": [
        "plt.figure(figsize=(10,5))\n",
        "plt.title(\"Training and Validation Loss\")\n",
        "plt.plot(val_losses,label=\"val\")\n",
        "plt.plot(train_losses,label=\"train\")\n",
        "plt.xlabel(\"iterations\")\n",
        "plt.ylabel(\"Loss\")\n",
        "plt.legend()\n",
        "plt.show()"
      ],
      "metadata": {
        "colab": {
          "base_uri": "https://localhost:8080/",
          "height": 487
        },
        "id": "jh4diRf7FpBP",
        "outputId": "fa58e90a-2256-44ce-a60b-eabe0ccb3c71"
      },
      "execution_count": null,
      "outputs": [
        {
          "output_type": "display_data",
          "data": {
            "text/plain": [
              "<Figure size 1000x500 with 1 Axes>"
            ],
            "image/png": "[encoded data removed]"
          },
          "metadata": {}
        }
      ]
    },
    {
      "cell_type": "code",
      "source": [
        "d = torch.save(model, 'nanogpt.pth')"
      ],
      "metadata": {
        "id": "HAh0hLr2c_Fp"
      },
      "execution_count": null,
      "outputs": []
    },
    {
      "cell_type": "code",
      "source": [
        "torch.save(model, 'nanogpt_model.pth')"
      ],
      "metadata": {
        "id": "Mtd7DfQSdUdC"
      },
      "execution_count": null,
      "outputs": []
    },
    {
      "cell_type": "code",
      "source": [
        "idx = torch.zeros((1,1), dtype = torch.long, device = device)\n",
        "k = model.generate(idx, max_new_tokens = 1200)[0].tolist()\n",
        "text  = decoder(k)\n",
        "print(text)"
      ],
      "metadata": {
        "id": "JfX2Ep0ZF0dN",
        "colab": {
          "base_uri": "https://localhost:8080/"
        },
        "outputId": "99434731-c093-4376-96ca-b58479ee1bc6"
      },
      "execution_count": null,
      "outputs": [
        {
          "output_type": "stream",
          "name": "stdout",
          "text": [
            "\n",
            "### Intruction:\n",
            " what mave it.\n",
            "### Response:\n",
            " leard, ban, unnd you ---\n",
            "### Intruction:\n",
            " ..\n",
            "### Response:\n",
            " do.\n",
            "### Intruction:\n",
            " sw yon back.\n",
            "### Response:\n",
            " you uh.\n",
            "### Intruction:\n",
            " one not lal you?\n",
            "### Response:\n",
            " i dain yoursatat.\n",
            "### Intruction:\n",
            " am afistls sorly. my thisct  gut to be you.   i was strietaver. can.\n",
            "### Response:\n",
            " i what its say thanke esexid spectand thak ivived . hours.  you dre ajigb.\n",
            "### Intruction:\n",
            " i have than mike. i am not on in yover mistery.  do not had aborgish ut i mel can.\n",
            "### Response:\n",
            " look shot bellife your you are than be wound of in a are ag eea t taskn peand an mapl an barnd kinght ----ecreat.\n",
            "### Intruction:\n",
            "  fariest..\n",
            "### Response:\n",
            " i was manoted you are awants biger are part?  i bees is ar it a twallt lastedina -shay. dat not thengred of theme is spisind themim o knf.\n",
            "### Response:\n",
            " you do not t allking . teshangs, if jume.\n",
            "### Intruction:\n",
            " when was the spbraid.\n",
            "### Response:\n",
            " a a it ellt, -, i woh imare nthiss naren.\n",
            "### Intruction:\n",
            " chall?\n",
            "### Response:\n",
            " me gread to kray fegnct.  if it your it not i aver clat oon t che cautd beanetis shne!\n",
            "### Intruction:\n",
            " i sack abut year sorty we hunt -a if a cariz d ashesin--o, now you have all it am his t\n"
          ]
        }
      ]
    },
    {
      "cell_type": "code",
      "source": [
        "# Generate the answer using the model\n",
        "ques = 'what is your name ?'\n",
        "input_ids = torch.tensor([encoder(f'### Intruction:\\n bye \\n')]).to(device)\n",
        "sample_output = model.generate(input_ids, max_new_tokens = 40)[0].tolist()\n",
        "\n",
        "# Decode the generated answer using the tokenizer\n",
        "answer = decoder(sample_output)\n",
        "# print(answer)\n",
        "# Split the generated answer into individual sentences\n",
        "sentences = answer.split('. ')\n",
        "\n",
        "# Look for the sentence that contains the answer to the question\n",
        "for sentence in sentences:\n",
        "    if ques in sentence:\n",
        "        print(sentence)\n",
        "\n",
        "# If no sentence contains the answer, return the full generated answer\n",
        "print(answer)"
      ],
      "metadata": {
        "id": "Pg1c-sqmF63M",
        "colab": {
          "base_uri": "https://localhost:8080/"
        },
        "outputId": "94a5fdad-cbfd-4c29-d840-6073fc2305fc"
      },
      "execution_count": null,
      "outputs": [
        {
          "output_type": "stream",
          "name": "stdout",
          "text": [
            "### Intruction:\n",
            " bye \n",
            "### Response:\n",
            " and she pup in  with is d\n"
          ]
        }
      ]
    },
    {
      "cell_type": "code",
      "source": [],
      "metadata": {
        "id": "TYdov3d8RBh0"
      },
      "execution_count": null,
      "outputs": []
    }
  ]
}